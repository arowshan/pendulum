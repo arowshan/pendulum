{
 "cells": [
  {
   "cell_type": "markdown",
   "metadata": {},
   "source": [
    "# Machine Learning Capstone Project\n",
    "## OpenAI Gym Pendulum\n",
    "\n",
    "My first approach is to use an actor-critic method with deep deterministic gradient policy algorithm using the torch framework."
   ]
  },
  {
   "cell_type": "code",
   "execution_count": 22,
   "metadata": {},
   "outputs": [
    {
     "name": "stdout",
     "output_type": "stream",
     "text": [
      "The autoreload extension is already loaded. To reload it, use:\n",
      "  %reload_ext autoreload\n"
     ]
    }
   ],
   "source": [
    "# reload on filechange\n",
    "%load_ext autoreload\n",
    "%autoreload 2\n",
    "\n",
    "import gym\n",
    "import numpy as np\n",
    "import matplotlib.pyplot as plt\n",
    "import torch\n",
    "from ddpg import DDPG\n",
    "from types import SimpleNamespace\n",
    "\n",
    "env = gym.make(\"Pendulum-v0\")\n",
    "\n",
    "# the pendulum has random initiations in each episode. To enable reproducibility we add a seed #\n",
    "random_seed = 1\n",
    "env.seed(random_seed)\n",
    "\n",
    "# I train my model on a GPU but if not available this will resort to CPU\n",
    "device = torch.device(\"cuda:0\" if torch.cuda.is_available() else \"cpu\")"
   ]
  },
  {
   "cell_type": "code",
   "execution_count": 23,
   "metadata": {},
   "outputs": [],
   "source": [
    "# # Define the Agent\n",
    "\n",
    "# hyperparams = {\n",
    "#     \"buffer_size\"  : int(1e5),  # replay buffer size\n",
    "#     \"batch_size\"   : 128,       # minibatch size\n",
    "#     \"gamma\"        : 0.99,      # discount factor\n",
    "#     \"tau\"          : 1e-3,      # for soft update of target parameters\n",
    "#     \"alpha_actor\"  : 1e-4,      # learning rate of the actor\n",
    "#     \"alpha_critic\" : 1e-3,      # learning rate of the critic\n",
    "#     \"weight_decay\" : 0         # L2 weight decay\n",
    "# }\n",
    "\n",
    "# hyperparams = SimpleNamespace(**hyperparams)\n",
    "\n",
    "# # state -> [cos(theta), sin(theta), theta_dt]\n",
    "# # action -> [torque]\n",
    "# # note: action space is also an array eventhough it has only one member\n",
    "\n",
    "# agent = DDPG(state_size=3, action_size=1, random_seed=random_seed, hyperparams=hyperparams)"
   ]
  },
  {
   "cell_type": "markdown",
   "metadata": {},
   "source": [
    "## Training the Model\n",
    "\n",
    "My strategy is to calculate the score for each step, sum those scores to get the total episode score and collect those total scores to have an array of scores for all episodes. This way I can evaluate the agent's progress.\n",
    "At every timestep the agent will take an action, get the observation(state) from the environment, choose the next action based on that state and calculate the score. \n",
    "Finally I will be saving the weights so I can render run the model without having to train the agent every time."
   ]
  },
  {
   "cell_type": "code",
   "execution_count": 37,
   "metadata": {},
   "outputs": [],
   "source": [
    "def train(num_episodes=500, time=200):\n",
    "    scores = []\n",
    "    avg_scores = []\n",
    "    for i_episode in range(1, num_episodes+1):\n",
    "        state = env.reset()\n",
    "        agent.reset()\n",
    "        score = 0\n",
    "        for t in range(time):\n",
    "            action = agent.select_action(state)\n",
    "            next_state, reward, done, info = env.step(action)\n",
    "            agent.step(state, action, reward, next_state, done)\n",
    "            state = next_state\n",
    "            score += reward\n",
    "            if done:\n",
    "                break\n",
    "        scores.append(score)\n",
    "        torch.save(agent.actor.state_dict(), \"weights_actor.pth\")\n",
    "        torch.save(agent.critic.state_dict(), \"weights_critic.pth\")\n",
    "        if (i_episode % 100 == 0):\n",
    "            avg_100_score = np.mean(scores[i_episode-100: i_episode])\n",
    "            print(\"Episode: \", i_episode, \" Avg Reward: \", avg_100_score)\n",
    "            avg_scores.append(avg_100_score)\n",
    "    return scores, avg_scores"
   ]
  },
  {
   "cell_type": "markdown",
   "metadata": {},
   "source": [
    "## Improvement and Visualization\n",
    "Last but not least, we can see the progress the agent made by looking at the scores through time and then render the train model (by loading the weights below) and observe the pendulum's behaviour."
   ]
  },
  {
   "cell_type": "code",
   "execution_count": 38,
   "metadata": {},
   "outputs": [],
   "source": [
    "def plot_rewards(scores):\n",
    "    fig = plt.figure()\n",
    "    ax = fig.add_subplot(111)\n",
    "    plt.plot(np.arange(1, len(scores)+1), scores)\n",
    "    plt.xlabel('Episode')\n",
    "    plt.ylabel('Reward')\n",
    "    plt.show()"
   ]
  },
  {
   "cell_type": "code",
   "execution_count": 35,
   "metadata": {
    "scrolled": true
   },
   "outputs": [
    {
     "name": "stderr",
     "output_type": "stream",
     "text": [
      "c:\\users\\arash\\appdata\\local\\programs\\python\\python36\\lib\\site-packages\\torch\\nn\\functional.py:995: UserWarning: nn.functional.tanh is deprecated. Use torch.tanh instead.\n",
      "  warnings.warn(\"nn.functional.tanh is deprecated. Use torch.tanh instead.\")\n"
     ]
    },
    {
     "name": "stdout",
     "output_type": "stream",
     "text": [
      "Episode:  50  Avg Reward:  -513.9239397349577\n",
      "Episode:  100  Avg Reward:  -291.2495966157938\n",
      "Episode:  150  Avg Reward:  -265.94430512653884\n",
      "Episode:  200  Avg Reward:  -241.252975175789\n",
      "Episode:  250  Avg Reward:  -254.9430149358779\n",
      "Episode:  300  Avg Reward:  -240.4790478633344\n",
      "Episode:  350  Avg Reward:  -259.5950056864295\n",
      "Episode:  400  Avg Reward:  -279.68968172367136\n",
      "Episode:  450  Avg Reward:  -239.735156316325\n",
      "Episode:  500  Avg Reward:  -242.11518515267727\n",
      "Combination 1 \n",
      " Average Scores:  [-513.9239397349577, -291.2495966157938, -265.94430512653884, -241.252975175789, -254.9430149358779, -240.4790478633344, -259.5950056864295, -279.68968172367136, -239.735156316325, -242.11518515267727] \n",
      " Params:  namespace(alpha_actor=0.0001, alpha_critic=0.001, batch_size=1024, buffer_size=100000, gamma=0.99, mu=0.0, sigma=0.01, tau=0.01, theta=0.15, weight_decay=0.99)\n"
     ]
    },
    {
     "data": {
      "image/png": "[encoded data removed]",
      "text/plain": [
       "<Figure size 432x288 with 1 Axes>"
      ]
     },
     "metadata": {
      "needs_background": "light"
     },
     "output_type": "display_data"
    }
   ],
   "source": [
    "from sklearn.model_selection import ParameterGrid\n",
    "hyperparam_grid = {\n",
    "    \"buffer_size\"  : [int(1e5)],        # replay buffer size\n",
    "    \"batch_size\"   : [1024],            # minibatch size\n",
    "    \"gamma\"        : [0.99],            # discount factor\n",
    "    \"tau\"          : [1e-2],            # tau, (1 - tau) for update ratio\n",
    "    \"alpha_actor\"  : [1e-4],            # learning rate of the actor\n",
    "    \"alpha_critic\" : [1e-3],            # learning rate of the critic\n",
    "    \"weight_decay\" : [0.99],            # L2 weight decay\n",
    "    \"mu\"           : [0.0],\n",
    "    \"theta\"        : [0.15],\n",
    "    \"sigma\"        : [0.01]\n",
    "}\n",
    "\n",
    "grid = ParameterGrid(hyperparam_grid)\n",
    "top_scores = []\n",
    "i = 1\n",
    "\n",
    "for params in grid:\n",
    "    params = SimpleNamespace(**params)\n",
    "    agent = DDPG(state_size=3, action_size=1, random_seed=random_seed, hyperparams=params)\n",
    "    scores, avg_scores = train()\n",
    "    print('Combination', i,'\\n','Average Scores: ', avg_scores, '\\n','Params: ', params)\n",
    "    if len(avg_scores)>0:\n",
    "        top_scores.append(avg_scores[-1])\n",
    "    plot_rewards(scores)\n",
    "    i+=1"
   ]
  },
  {
   "cell_type": "markdown",
   "metadata": {},
   "source": [
    "The plot below shows the contiuous average of the last 100 scores at each episode. This illustrates the improvement of the model better at it clearly shows the learning period and then when the agent's learning plateaus"
   ]
  },
  {
   "cell_type": "code",
   "execution_count": 36,
   "metadata": {},
   "outputs": [
    {
     "name": "stderr",
     "output_type": "stream",
     "text": [
      "c:\\users\\arash\\appdata\\local\\programs\\python\\python36\\lib\\site-packages\\numpy\\core\\fromnumeric.py:2920: RuntimeWarning: Mean of empty slice.\n",
      "  out=out, **kwargs)\n",
      "c:\\users\\arash\\appdata\\local\\programs\\python\\python36\\lib\\site-packages\\numpy\\core\\_methods.py:85: RuntimeWarning: invalid value encountered in double_scalars\n",
      "  ret = ret.dtype.type(ret / rcount)\n"
     ]
    },
    {
     "data": {
      "image/png": "[encoded data removed]",
      "text/plain": [
       "<Figure size 432x288 with 1 Axes>"
      ]
     },
     "metadata": {
      "needs_background": "light"
     },
     "output_type": "display_data"
    }
   ],
   "source": [
    "fig = plt.figure()\n",
    "ax = fig.add_subplot(111)\n",
    "continuous_avg = []\n",
    "for i in range(len(scores)):\n",
    "    if(i<100):\n",
    "        continuous_avg.append(np.mean((scores[0:i])))\n",
    "    else:\n",
    "        continuous_avg.append(np.mean(scores[i-100:i]))\n",
    "plt.plot(np.arange(1, len(continuous_avg)+1), continuous_avg, 'rD')\n",
    "plt.xlabel('Episode')\n",
    "plt.ylabel('continuous_avg')\n",
    "plt.show()"
   ]
  },
  {
   "cell_type": "code",
   "execution_count": 9,
   "metadata": {
    "scrolled": true
   },
   "outputs": [
    {
     "data": {
      "image/png": "[encoded data removed]",
      "text/plain": [
       "<Figure size 432x288 with 1 Axes>"
      ]
     },
     "metadata": {
      "needs_background": "light"
     },
     "output_type": "display_data"
    }
   ],
   "source": [
    "# DO NOT RUN this cell unless you want to compare new results - CURRENT OUTPUT WILL BE LOST!\n",
    "# This cell was last ran after a 16 combination was run above. To try illustrate new combinations results re-run.\n",
    "# The current scores are not the corresponsing scores for the graph below\n",
    "fig = plt.figure()\n",
    "ax = fig.add_subplot(111)\n",
    "plt.plot(np.arange(1, len(top_scores)+1), top_scores)\n",
    "plt.xlabel('Combination #')\n",
    "plt.ylabel('Last 100 Score')\n",
    "plt.show()"
   ]
  },
  {
   "cell_type": "code",
   "execution_count": 33,
   "metadata": {},
   "outputs": [
    {
     "data": {
      "text/html": [
       "<table>\n",
       "<tbody>\n",
       "<tr><td>combination</td><td>alpha_actor</td><td>alpha_critic</td><td>batch_size</td><td>buffer_size</td><td>gamma</td><td>mu </td><td>sigma</td><td>tau  </td><td>theta</td><td>weight_decay</td></tr>\n",
       "<tr><td>1          </td><td>0.0001     </td><td>0.001       </td><td>1024      </td><td>100000     </td><td>0.99 </td><td>0.0</td><td>0.01 </td><td>0.01 </td><td>0.15 </td><td>0           </td></tr>\n",
       "<tr><td>2          </td><td>0.0001     </td><td>0.001       </td><td>1024      </td><td>100000     </td><td>0.99 </td><td>0.0</td><td>0.01 </td><td>0.001</td><td>0.15 </td><td>0           </td></tr>\n",
       "<tr><td>3          </td><td>0.0001     </td><td>0.001       </td><td>1024      </td><td>100000     </td><td>0.9  </td><td>0.0</td><td>0.01 </td><td>0.01 </td><td>0.15 </td><td>0           </td></tr>\n",
       "<tr><td>4          </td><td>0.0001     </td><td>0.001       </td><td>1024      </td><td>100000     </td><td>0.9  </td><td>0.0</td><td>0.01 </td><td>0.001</td><td>0.15 </td><td>0           </td></tr>\n",
       "<tr><td>5          </td><td>0.0001     </td><td>0.01        </td><td>1024      </td><td>100000     </td><td>0.99 </td><td>0.0</td><td>0.01 </td><td>0.01 </td><td>0.15 </td><td>0           </td></tr>\n",
       "<tr><td>6          </td><td>0.0001     </td><td>0.01        </td><td>1024      </td><td>100000     </td><td>0.99 </td><td>0.0</td><td>0.01 </td><td>0.001</td><td>0.15 </td><td>0           </td></tr>\n",
       "<tr><td>7          </td><td>0.0001     </td><td>0.01        </td><td>1024      </td><td>100000     </td><td>0.9  </td><td>0.0</td><td>0.01 </td><td>0.01 </td><td>0.15 </td><td>0           </td></tr>\n",
       "<tr><td>8          </td><td>0.0001     </td><td>0.01        </td><td>1024      </td><td>100000     </td><td>0.9  </td><td>0.0</td><td>0.01 </td><td>0.001</td><td>0.15 </td><td>0           </td></tr>\n",
       "<tr><td>9          </td><td>0.01       </td><td>0.001       </td><td>1024      </td><td>100000     </td><td>0.99 </td><td>0.0</td><td>0.01 </td><td>0.01 </td><td>0.15 </td><td>0           </td></tr>\n",
       "<tr><td>10         </td><td>0.01       </td><td>0.001       </td><td>1024      </td><td>100000     </td><td>0.99 </td><td>0.0</td><td>0.01 </td><td>0.001</td><td>0.15 </td><td>0           </td></tr>\n",
       "<tr><td>11         </td><td>0.01       </td><td>0.001       </td><td>1024      </td><td>100000     </td><td>0.9  </td><td>0.0</td><td>0.01 </td><td>0.01 </td><td>0.15 </td><td>0           </td></tr>\n",
       "<tr><td>12         </td><td>0.01       </td><td>0.001       </td><td>1024      </td><td>100000     </td><td>0.9  </td><td>0.0</td><td>0.01 </td><td>0.001</td><td>0.15 </td><td>0           </td></tr>\n",
       "<tr><td>13         </td><td>0.01       </td><td>0.01        </td><td>1024      </td><td>100000     </td><td>0.99 </td><td>0.0</td><td>0.01 </td><td>0.01 </td><td>0.15 </td><td>0           </td></tr>\n",
       "<tr><td>14         </td><td>0.01       </td><td>0.01        </td><td>1024      </td><td>100000     </td><td>0.99 </td><td>0.0</td><td>0.01 </td><td>0.001</td><td>0.15 </td><td>0           </td></tr>\n",
       "<tr><td>15         </td><td>0.01       </td><td>0.01        </td><td>1024      </td><td>100000     </td><td>0.9  </td><td>0.0</td><td>0.01 </td><td>0.01 </td><td>0.15 </td><td>0           </td></tr>\n",
       "<tr><td>16         </td><td>0.01       </td><td>0.01        </td><td>1024      </td><td>100000     </td><td>0.9  </td><td>0.0</td><td>0.01 </td><td>0.001</td><td>0.15 </td><td>0           </td></tr>\n",
       "</tbody>\n",
       "</table>"
      ],
      "text/plain": [
       "<IPython.core.display.HTML object>"
      ]
     },
     "metadata": {},
     "output_type": "display_data"
    }
   ],
   "source": [
    "# DO NOT RUN this cell unless you want to compare new results - CURRENT OUTPUT WILL BE LOST!\n",
    "\n",
    "from IPython.display import HTML, display\n",
    "import tabulate\n",
    "\n",
    "headers = []\n",
    "i = 0\n",
    "for params in grid:\n",
    "    combination=[]\n",
    "    for key, val in params.items():\n",
    "        if i==0:\n",
    "            headers.append(key)\n",
    "        combination.append(val)\n",
    "    if i==0:\n",
    "        headers.insert(0, 'combination')\n",
    "        table = [headers]\n",
    "    i += 1\n",
    "    combination.insert(0, i)\n",
    "    table.append(combination)\n",
    "    \n",
    "\n",
    "    display(HTML(tabulate.tabulate(table, tablefmt='html')))"
   ]
  },
  {
   "cell_type": "markdown",
   "metadata": {},
   "source": [
    "### Let's see the agent in action"
   ]
  },
  {
   "cell_type": "code",
   "execution_count": 8,
   "metadata": {},
   "outputs": [
    {
     "name": "stderr",
     "output_type": "stream",
     "text": [
      "c:\\users\\arash\\appdata\\local\\programs\\python\\python36\\lib\\site-packages\\torch\\nn\\functional.py:995: UserWarning: nn.functional.tanh is deprecated. Use torch.tanh instead.\n",
      "  warnings.warn(\"nn.functional.tanh is deprecated. Use torch.tanh instead.\")\n"
     ]
    }
   ],
   "source": [
    "# To see the agent in action run this cell\n",
    "# This cell uses the last trained weights saved\n",
    "\n",
    "agent.actor.load_state_dict(torch.load('weights_actor.pth'))\n",
    "agent.critic.load_state_dict(torch.load('weights_critic.pth'))\n",
    "\n",
    "state = env.reset()\n",
    "for i in range(3):\n",
    "    env.reset()\n",
    "    for t in range(200):\n",
    "        action = agent.select_action(state, train=False)\n",
    "        env.render()\n",
    "        state, reward, done, _ = env.step(action)\n",
    "        if done:\n",
    "            continue\n",
    "env.close()"
   ]
  }
 ],
 "metadata": {
  "kernelspec": {
   "display_name": "Python 3",
   "language": "python",
   "name": "python3"
  },
  "language_info": {
   "codemirror_mode": {
    "name": "ipython",
    "version": 3
   },
   "file_extension": ".py",
   "mimetype": "text/x-python",
   "name": "python",
   "nbconvert_exporter": "python",
   "pygments_lexer": "ipython3",
   "version": "3.6.6"
  }
 },
 "nbformat": 4,
 "nbformat_minor": 2
}
